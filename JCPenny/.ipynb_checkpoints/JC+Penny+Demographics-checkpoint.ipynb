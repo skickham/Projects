{
 "cells": [
  {
   "cell_type": "markdown",
   "metadata": {},
   "source": [
    "# JC Penny Store Closings\n",
    "\n",
    "\n",
    "## Workflow\n",
    "\n",
    "Investigate JC Penny store closings$^1$  by:\n",
    "\n",
    "* Tagging locations as Urban vs Rural (using population density from the Data Observatory)\n",
    "* Draw 10 minutes walk or drive isochrones based on whether the location is urban or not\n",
    "* Visualize data with cartoframes\n",
    "* Augment isochrones with Data Observatory measures\n",
    "* Visualize data in Builder and add widgets for specific measures and store properties\n",
    "\n",
    "Final dashboard: https://team.carto.com/u/eschbacher/builder/0592fcae-3026-11e7-b861-0e3ebc282e83/embed\n",
    "\n",
    "1. closing status is real, but the actual close date is chosen randomly from the last five years"
   ]
  },
  {
   "cell_type": "markdown",
   "metadata": {},
   "source": [
    "## Installing dependencies\n",
    "\n",
    "Install [cartoframes](https://github.com/cartodb/cartoframes) (which is currently in beta). I recommend installing in a virtual environment to keep things clean and sandboxed.\n",
    "\n",
    "## Getting the data\n",
    "\n",
    "Download the JC Penny store location data from here:\n",
    "* <http://eschbacher.carto.com/api/v2/sql?q=select%20*%20from%20jc_penny_stores&format=csv&filename=jc_penny_stores>"
   ]
  },
  {
   "cell_type": "markdown",
   "metadata": {},
   "source": [
    "## Workflow for obtaining data\n",
    "\n",
    "Pull JC Penny locations from my CARTO account into cartoframes"
   ]
  },
  {
   "cell_type": "code",
   "execution_count": 1,
   "metadata": {
    "collapsed": false
   },
   "outputs": [
    {
     "data": {
      "text/html": [
       "<div>\n",
       "<table border=\"1\" class=\"dataframe\">\n",
       "  <thead>\n",
       "    <tr style=\"text-align: right;\">\n",
       "      <th></th>\n",
       "      <th>status</th>\n",
       "      <th>distance</th>\n",
       "      <th>allhomes_zhvi_predenom_2016_08</th>\n",
       "      <th>the_geom_webmercator</th>\n",
       "      <th>name</th>\n",
       "      <th>state_abb</th>\n",
       "      <th>total_pop_area_2011_2015</th>\n",
       "      <th>closed_date</th>\n",
       "      <th>phone</th>\n",
       "      <th>state</th>\n",
       "      <th>address</th>\n",
       "      <th>the_geom</th>\n",
       "    </tr>\n",
       "    <tr>\n",
       "      <th>cartodb_id</th>\n",
       "      <th></th>\n",
       "      <th></th>\n",
       "      <th></th>\n",
       "      <th></th>\n",
       "      <th></th>\n",
       "      <th></th>\n",
       "      <th></th>\n",
       "      <th></th>\n",
       "      <th></th>\n",
       "      <th></th>\n",
       "      <th></th>\n",
       "      <th></th>\n",
       "    </tr>\n",
       "  </thead>\n",
       "  <tbody>\n",
       "    <tr>\n",
       "      <th>405</th>\n",
       "      <td>retaining</td>\n",
       "      <td>24140.0</td>\n",
       "      <td>NaN</td>\n",
       "      <td>0101000020110F0000D4179582CCE761C14E29ED592A54...</td>\n",
       "      <td>JCPenney - Richmond Centre</td>\n",
       "      <td>KY</td>\n",
       "      <td>368.266243</td>\n",
       "      <td>NaT</td>\n",
       "      <td>(859) 626-7857</td>\n",
       "      <td>Kentucky</td>\n",
       "      <td>2037 Lantern Ridge Dr</td>\n",
       "      <td>0101000020E6100000E1EF17B3251555C04CE2AC889ADE...</td>\n",
       "    </tr>\n",
       "    <tr>\n",
       "      <th>3</th>\n",
       "      <td>closing</td>\n",
       "      <td>24140.0</td>\n",
       "      <td>NaN</td>\n",
       "      <td>0101000020110F00006F876C7D722462C10CFF22F21C57...</td>\n",
       "      <td>JCPenney - Colonial University in Auburn</td>\n",
       "      <td>AL</td>\n",
       "      <td>866.007594</td>\n",
       "      <td>2014-04-17</td>\n",
       "      <td>(334) 826-1954</td>\n",
       "      <td>Alabama</td>\n",
       "      <td>1627 Opelika Rd Ste 69</td>\n",
       "      <td>0101000020E61000000AD6389B8E5C55C07619FED30D50...</td>\n",
       "    </tr>\n",
       "    <tr>\n",
       "      <th>4</th>\n",
       "      <td>closing</td>\n",
       "      <td>24140.0</td>\n",
       "      <td>155500.0</td>\n",
       "      <td>0101000020110F00003AD009EF347862C110A1BA13DE0E...</td>\n",
       "      <td>JCPenney - Clnl Prom @tannehill in Bessemer</td>\n",
       "      <td>AL</td>\n",
       "      <td>174.355475</td>\n",
       "      <td>2015-07-21</td>\n",
       "      <td>(205) 565-2720</td>\n",
       "      <td>Alabama</td>\n",
       "      <td>4835 Promenade Pkwy</td>\n",
       "      <td>0101000020E6100000E96514CB2DBF55C07F2F8507CDAA...</td>\n",
       "    </tr>\n",
       "    <tr>\n",
       "      <th>5</th>\n",
       "      <td>retaining</td>\n",
       "      <td>24140.0</td>\n",
       "      <td>NaN</td>\n",
       "      <td>0101000020110F0000E4EBC3C39B6E62C139F61E854967...</td>\n",
       "      <td>JCPenney - Cullman Shopg Cntr</td>\n",
       "      <td>AL</td>\n",
       "      <td>6.903157</td>\n",
       "      <td>NaT</td>\n",
       "      <td>(256) 739-3726</td>\n",
       "      <td>Alabama</td>\n",
       "      <td>711 Second Ave NW</td>\n",
       "      <td>0101000020E61000003468E89FE0B355C01475E61E1258...</td>\n",
       "    </tr>\n",
       "    <tr>\n",
       "      <th>6</th>\n",
       "      <td>retaining</td>\n",
       "      <td>24140.0</td>\n",
       "      <td>NaN</td>\n",
       "      <td>0101000020110F0000D2E0C270202362C171737DD2BBF7...</td>\n",
       "      <td>JCPenney - Wiregrass Commons in Dothan</td>\n",
       "      <td>AL</td>\n",
       "      <td>494.424072</td>\n",
       "      <td>NaT</td>\n",
       "      <td>(334) 794-0531</td>\n",
       "      <td>Alabama</td>\n",
       "      <td>900 Commons Dr Ste 900</td>\n",
       "      <td>0101000020E6100000BEF6CC92005B55C0AF44A0FA0741...</td>\n",
       "    </tr>\n",
       "  </tbody>\n",
       "</table>\n",
       "</div>"
      ],
      "text/plain": [
       "               status  distance  allhomes_zhvi_predenom_2016_08  \\\n",
       "cartodb_id                                                        \n",
       "405         retaining   24140.0                             NaN   \n",
       "3             closing   24140.0                             NaN   \n",
       "4             closing   24140.0                        155500.0   \n",
       "5           retaining   24140.0                             NaN   \n",
       "6           retaining   24140.0                             NaN   \n",
       "\n",
       "                                         the_geom_webmercator  \\\n",
       "cartodb_id                                                      \n",
       "405         0101000020110F0000D4179582CCE761C14E29ED592A54...   \n",
       "3           0101000020110F00006F876C7D722462C10CFF22F21C57...   \n",
       "4           0101000020110F00003AD009EF347862C110A1BA13DE0E...   \n",
       "5           0101000020110F0000E4EBC3C39B6E62C139F61E854967...   \n",
       "6           0101000020110F0000D2E0C270202362C171737DD2BBF7...   \n",
       "\n",
       "                                                   name state_abb  \\\n",
       "cartodb_id                                                          \n",
       "405                          JCPenney - Richmond Centre        KY   \n",
       "3              JCPenney - Colonial University in Auburn        AL   \n",
       "4           JCPenney - Clnl Prom @tannehill in Bessemer        AL   \n",
       "5                         JCPenney - Cullman Shopg Cntr        AL   \n",
       "6                JCPenney - Wiregrass Commons in Dothan        AL   \n",
       "\n",
       "            total_pop_area_2011_2015 closed_date           phone     state  \\\n",
       "cartodb_id                                                                   \n",
       "405                       368.266243         NaT  (859) 626-7857  Kentucky   \n",
       "3                         866.007594  2014-04-17  (334) 826-1954   Alabama   \n",
       "4                         174.355475  2015-07-21  (205) 565-2720   Alabama   \n",
       "5                           6.903157         NaT  (256) 739-3726   Alabama   \n",
       "6                         494.424072         NaT  (334) 794-0531   Alabama   \n",
       "\n",
       "                           address  \\\n",
       "cartodb_id                           \n",
       "405          2037 Lantern Ridge Dr   \n",
       "3           1627 Opelika Rd Ste 69   \n",
       "4              4835 Promenade Pkwy   \n",
       "5                711 Second Ave NW   \n",
       "6           900 Commons Dr Ste 900   \n",
       "\n",
       "                                                     the_geom  \n",
       "cartodb_id                                                     \n",
       "405         0101000020E6100000E1EF17B3251555C04CE2AC889ADE...  \n",
       "3           0101000020E61000000AD6389B8E5C55C07619FED30D50...  \n",
       "4           0101000020E6100000E96514CB2DBF55C07F2F8507CDAA...  \n",
       "5           0101000020E61000003468E89FE0B355C01475E61E1258...  \n",
       "6           0101000020E6100000BEF6CC92005B55C0AF44A0FA0741...  "
      ]
     },
     "execution_count": 1,
     "metadata": {},
     "output_type": "execute_result"
    }
   ],
   "source": [
    "import pandas as pd\n",
    "import cartoframes\n",
    "import json\n",
    "import warnings\n",
    "warnings.filterwarnings\n",
    "\n",
    "USERNAME = 'skickham' # <-- Put your carto username here\n",
    "APIKEY = '79c4ab7de1e6c6794a3b84b00ff0bf45659ce668' # <-- Put your carto api key here\n",
    "\n",
    "# use cartoframes.credentials.set_creds() to save credentials for future use\n",
    "cc = cartoframes.CartoContext(api_key=APIKEY,\n",
    "                              base_url='https://{}.carto.com/'.format(USERNAME))\n",
    "table_name = 'jc_penny_stores'\n",
    "\n",
    "# load JC Penny locations into DataFrame\n",
    "df = cc.read(table_name)\n",
    "df.head()"
   ]
  },
  {
   "cell_type": "markdown",
   "metadata": {},
   "source": [
    "## JC Penny Store Closings\n",
    "\n",
    "* Purple = stores closing\n",
    "* Orange = stores staying open"
   ]
  },
  {
   "cell_type": "code",
   "execution_count": null,
   "metadata": {
    "collapsed": true
   },
   "outputs": [],
   "source": [
    "from cartoframes import Layer\n",
    "from cartoframes.styling import vivid\n",
    "\n",
    "cc.map(layers=Layer(table_name,\n",
    "                    color={'column': 'status', 'scheme': vivid(10, 'category')}),\n",
    "       interactive=False)"
   ]
  },
  {
   "cell_type": "markdown",
   "metadata": {},
   "source": [
    "## Augment with DO to get 'urban-ness' metric (population density)"
   ]
  },
  {
   "cell_type": "code",
   "execution_count": null,
   "metadata": {
    "collapsed": true
   },
   "outputs": [],
   "source": [
    "# get population, other measures within 5 minute walk time\n",
    "# More info about this Data Observatory measure here:\n",
    "#  https://cartodb.github.io/bigmetadata/united_states/age_gender.html#total-population\n",
    "df = cc.data_augment(table_name, [{'numer_id': 'us.census.acs.B01003001',\n",
    "                                   'normalization': 'area',\n",
    "                                   'numer_timespan': '2011 - 2015'}])\n",
    "df.head()"
   ]
  },
  {
   "cell_type": "markdown",
   "metadata": {},
   "source": [
    "## Get a sense of the range of data"
   ]
  },
  {
   "cell_type": "code",
   "execution_count": null,
   "metadata": {
    "collapsed": true
   },
   "outputs": [],
   "source": [
    "df.describe()"
   ]
  },
  {
   "cell_type": "markdown",
   "metadata": {},
   "source": [
    "## Create isochrones based on travel inferences\n",
    "\n",
    "Create a derivative table with geometries as isochrones of walk/drive times from store locations. If pop density is above 5000 people / sq. km., assume it's a walkable area. Otherwise, assume cars are the primary mode of transit.\n",
    "\n",
    "**Note:** This functionality is a planned cartoframes method."
   ]
  },
  {
   "cell_type": "code",
   "execution_count": null,
   "metadata": {
    "collapsed": true
   },
   "outputs": [],
   "source": [
    "df = cc.query('''\n",
    "    SELECT \n",
    "        CASE WHEN total_pop_area_2011_2015 > 5000\n",
    "             THEN (cdb_isochrone(the_geom, 'walk', Array[600])).the_geom\n",
    "             ELSE (cdb_isochrone(the_geom, 'car', Array[600])).the_geom\n",
    "             END as the_geom,\n",
    "        {keep_columns}\n",
    "    FROM\n",
    "        {table_name}\n",
    "             '''.format(table_name=table_name,\n",
    "                        keep_columns=', '.join(set(df.columns) - {'the_geom', 'the_geom_webmercator'})),\n",
    "             table_name=(table_name + '_isochrones'))"
   ]
  },
  {
   "cell_type": "markdown",
   "metadata": {},
   "source": [
    "If this fails because of a lack of credits (i.e., reaching quota), then replace the `(cdb_isochrone(the_geom, 'walk', Array[600])).the_geom` pieces with `ST_Buffer(the_geom::geography, 800)::geometry` for an approximate 10 minute walk ('crow flies' distance), and `ST_Buffer(the_geom::geography, 12000)::geometry` for an approximate 10 minute drive (assuming 45 mph on average for 10 minutes)."
   ]
  },
  {
   "cell_type": "code",
   "execution_count": null,
   "metadata": {
    "collapsed": true,
    "scrolled": false
   },
   "outputs": [],
   "source": [
    "df.head()"
   ]
  },
  {
   "cell_type": "code",
   "execution_count": null,
   "metadata": {
    "collapsed": true
   },
   "outputs": [],
   "source": [
    "from cartoframes import BaseMap\n",
    "cc.map(layers=[BaseMap('light'),\n",
    "               Layer(table_name + '_isochrones'),\n",
    "               Layer(table_name)],\n",
    "       zoom=12, lng=-73.9668, lat=40.7306,\n",
    "       interactive=False)"
   ]
  },
  {
   "cell_type": "code",
   "execution_count": null,
   "metadata": {
    "collapsed": true
   },
   "outputs": [],
   "source": [
    "# show choropleth of isochrones by pop density\n",
    "from cartoframes.styling import vivid\n",
    "cc.map(layers=[Layer(table_name + '_isochrones',\n",
    "                    color='total_pop_area_2011_2015'),\n",
    "              Layer(table_name, size=6, color={'column': 'status', 'scheme': vivid(2)})],\n",
    "       zoom=8, lng=-74.7729, lat=39.9771,\n",
    "       interactive=False)"
   ]
  },
  {
   "cell_type": "code",
   "execution_count": null,
   "metadata": {
    "collapsed": true
   },
   "outputs": [],
   "source": [
    "# Data Observatory measures: median income, male age 30-34 (both ACS)\n",
    "# Male age 30-34: https://cartodb.github.io/bigmetadata/united_states/age_gender.html#male-age-30-to-34\n",
    "# Median Income: https://cartodb.github.io/bigmetadata/united_states/income.html#median-household-income-in-the-past-12-months\n",
    "\n",
    "# Note: this may take a minute or two because all the measures are being calculated based on the custom geographies\n",
    "#       that are passed in using spatially interpolated calculations (area-weighted measures)\n",
    "\n",
    "data_obs_measures = [{'numer_id': 'us.census.acs.B01001012'},\n",
    "                     {'numer_id': 'us.census.acs.B19013001'}]\n",
    "df = cc.data_augment(table_name + '_isochrones', data_obs_measures)\n",
    "df.head()"
   ]
  },
  {
   "cell_type": "markdown",
   "metadata": {},
   "source": [
    "## Visualize isochrones based on Data Observatory measure"
   ]
  },
  {
   "cell_type": "code",
   "execution_count": null,
   "metadata": {
    "collapsed": true,
    "scrolled": false
   },
   "outputs": [],
   "source": [
    "cc.map(layers=Layer(table_name + '_isochrones',\n",
    "                    color='median_income_2011_2015'),\n",
    "       zoom=8, lng=-74.3115, lat=40.1621,\n",
    "       interactive=False)"
   ]
  },
  {
   "cell_type": "markdown",
   "metadata": {},
   "source": [
    "## Builder Dashboard\n",
    "\n",
    "https://team.carto.com/u/eschbacher/builder/0592fcae-3026-11e7-b861-0e3ebc282e83/embed"
   ]
  },
  {
   "cell_type": "code",
   "execution_count": null,
   "metadata": {
    "collapsed": true,
    "scrolled": false
   },
   "outputs": [],
   "source": [
    "from IPython.display import HTML\n",
    "HTML('<iframe width=\"100%\" height=\"520\" frameborder=\"0\" src=\"https://team.carto.com/u/eschbacher/builder/0592fcae-3026-11e7-b861-0e3ebc282e83/embed\" allowfullscreen webkitallowfullscreen mozallowfullscreen oallowfullscreen msallowfullscreen></iframe>')"
   ]
  }
 ],
 "metadata": {
  "kernelspec": {
   "display_name": "Python 2",
   "language": "python",
   "name": "python2"
  },
  "language_info": {
   "codemirror_mode": {
    "name": "ipython",
    "version": 2
   },
   "file_extension": ".py",
   "mimetype": "text/x-python",
   "name": "python",
   "nbconvert_exporter": "python",
   "pygments_lexer": "ipython2",
   "version": "2.7.13"
  }
 },
 "nbformat": 4,
 "nbformat_minor": 2
}
