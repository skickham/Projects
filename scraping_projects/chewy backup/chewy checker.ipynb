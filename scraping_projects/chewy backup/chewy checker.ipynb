{
 "cells": [
  {
   "cell_type": "code",
   "execution_count": 1,
   "metadata": {
    "collapsed": true
   },
   "outputs": [],
   "source": [
    "it = open(\"chewy.txt\", \"r\")"
   ]
  },
  {
   "cell_type": "code",
   "execution_count": 2,
   "metadata": {
    "collapsed": false
   },
   "outputs": [
    {
     "data": {
      "text/plain": [
       "<open file 'chewy.txt', mode 'r' at 0x0000000004C5F030>"
      ]
     },
     "execution_count": 2,
     "metadata": {},
     "output_type": "execute_result"
    }
   ],
   "source": [
    "it"
   ]
  },
  {
   "cell_type": "code",
   "execution_count": 8,
   "metadata": {
    "collapsed": false
   },
   "outputs": [],
   "source": [
    "with open('chewy.txt') as f:\n",
    "    content = f.readlines()\n",
    "    "
   ]
  },
  {
   "cell_type": "code",
   "execution_count": 9,
   "metadata": {
    "collapsed": false
   },
   "outputs": [
    {
     "data": {
      "text/plain": [
       "['1544\\t$48.99\\tTaste of the Wild\\t$49.99\\tHigh Prairie Grain-Free Dry Dog Food, 30-lb bag\\n',\n",
       " '844\\t$45.99\\tBlue Buffalo\\t$52.99\\tLife Protection Formula Adult Chicken & Brown Rice Recipe Dry Dog Food, 30-lb bag\\n',\n",
       " '1355\\t$48.99\\tTaste of the Wild\\t\\tPacific Stream Grain-Free Dry Dog Food, 30-lb bag\\n',\n",
       " '604\\t$48.99\\tBlue Buffalo\\t$55.99\\tWilderness Chicken Recipe Grain-Free Dry Dog Food, 24-lb bag\\n',\n",
       " '673\\t$56.69\\tNatural Balance\\t$62.99\\tL.I.D. Limited Ingredient Diets Sweet Potato & Venison Formula Grain-Free Dry D\\n',\n",
       " '335\\t$46.99\\tBlue Buffalo\\t$55.99\\tLife Protection Formula Large Breed Adult Chicken & Brown Rice Recipe Dry Dog Food\\n',\n",
       " '693\\t$27.99\\tPurina Pro Plan Veterinary Diets\\t\\tFortiFlora Probiotic Dog Supplement, 30 count, 1 pack\\n',\n",
       " '1261\\t$78.99\\tOrijen\\t\\tOriginal Grain-Free Dry Dog Food, 25-lb bag\\n',\n",
       " '743\\t$46.66\\tFromm\\t$50.00\\tGold Holistic Adult Dry Dog Food, 33-lb bag\\n',\n",
       " '463\\t$49.99\\tBlue Buffalo\\t$59.99\\tWilderness Salmon Recipe Grain-Free Dry Dog Food, 24-lb bag\\n',\n",
       " '483\\t$59.49\\tRoyal Canin Veterinary Diet\\t$69.99\\tGastrointestinal Low Fat LF Canned Dog Food, 13.6-oz can, case of 2\\n',\n",
       " '311\\t$41.98\\tPurina Pro Plan\\t$52.99\\tSport All Life Stages Performance 30/20 Formula Dry Dog Food, 37.5-lb bag\\n',\n",
       " '465\\t$53.99\\tNatural Balance\\t$59.99\\tL.I.D. Limited Ingredient Diets Sweet Potato & Fish Formula Grain-Free Dry Dog\\n',\n",
       " '612\\t$49.99\\tTaste of the Wild\\t\\tSierra Mountain Grain-Free Dry Dog Food, 30-lb bag\\n',\n",
       " '400\\t$41.98\\tPurina Pro Plan\\t$51.34\\tFocus Adult Sensitive Skin & Stomach Formula Dry Dog Food, 30-lb bag\\n',\n",
       " '413\\t$45.99\\tBlue Buffalo\\t$52.99\\tLife Protection Formula Healthy Weight Adult Chicken & Brown Rice Recipe Dry Dog F\\n',\n",
       " '210\\t$39.99\\tAmerican Journey\\t\\tSalmon & Sweet Potato Recipe Grain-Free Dry Dog Food, 24-lb bag\\n',\n",
       " '372\\t$46.66\\tFromm\\t$50.00\\tGold Holistic Large Breed Adult Dry Dog Food, 33-lb bag\\n',\n",
       " '334\\t$39.98\\tPurina Pro Plan\\t$44.99\\tSavor Adult Shredded Blend Chicken & Rice Formula Dry Dog Food, 35-lb bag\\n',\n",
       " '604\\t$49.99\\tTaste of the Wild\\t$50.99\\tHigh Prairie Puppy Formula Grain-Free Dry Dog Food, 30-lb bag\\n',\n",
       " '286\\t$80.74\\tRoyal Canin Veterinary Diet\\t$94.99\\tHydrolyzed Protein Adult HP Dry Dog Food, 25.3-lb bag\\n',\n",
       " \"318\\t$7.09\\tHill's Prescription Diet\\t$8.39\\tHypo-Treats Dog Treats, 12-oz bag\\n\",\n",
       " '251\\t$49.99\\tBlue Buffalo\\t$58.99\\tBasics Limited Ingredient Grain-Free Formula Turkey & Potato Recipe Adult Dry Dog\\n',\n",
       " '539\\t$69.69\\tRoyal Canin Veterinary Diet\\t$81.99\\tGastrointestinal Low Fat LF Dry Dog Food, 28.6-lb bag\\n',\n",
       " '190\\t$27.30\\tIams\\t$32.99\\tProActive Health Adult Large Breed Dry Dog Food, 30-lb bag\\n',\n",
       " '338\\t$47.99\\tBlue Buffalo\\t$55.99\\tLife Protection Formula Adult Lamb & Brown Rice Recipe Dry Dog Food, 30-lb bag\\n',\n",
       " '572\\t$48.99\\tTaste of the Wild\\t\\tWetlands Grain-Free Dry Dog Food, 30-lb bag\\n',\n",
       " '420\\t$58.48\\tWellness\\t$64.99\\tCORE Grain-Free Original Formula Dry Dog Food, 26-lb bag\\n',\n",
       " \"365\\t$33.49\\tHill's Prescription Diet\\t\\ti/d Digestive Care with Turkey Canned Dog Food, 13-oz, case of 12\\n\",\n",
       " '223\\t$47.99\\tBlue Buffalo\\t$53.99\\tFreedom Adult Chicken Recipe Grain-Free Dry Dog Food, 24-lb bag\\n',\n",
       " '207\\t$51.99\\tBlue Buffalo\\t$61.99\\tWilderness Rocky Mountain Recipe with Red Meat Large Breed Grain-Free Dry Dog Food\\n',\n",
       " '517\\t$56.99\\tCANIDAE\\t$59.99\\tLife Stages All Life Stages Formula Dry Dog Food, 44-lb bag\\n',\n",
       " '316\\t$53.99\\tNatural Balance\\t$62.99\\tL.I.D. Limited Ingredient Diets Sweet Potato & Bison Formula Grain-Free Dry Dog\\n',\n",
       " '502\\t$61.19\\tRoyal Canin Veterinary Diet\\t$71.99\\tUrinary SO Dry Dog Food, 25.3-lb bag\\n',\n",
       " '179\\t$51.99\\tBlue Buffalo\\t$59.99\\tBasics Limited Ingredient Grain-Free Formula Salmon & Potato Recipe Adult Dry Dog\\n',\n",
       " '319\\t$27.99\\tBlue Buffalo\\t$34.99\\tLife Protection Formula Small Breed Adult Chicken & Brown Rice Recipe Dry Dog Food\\n',\n",
       " '147\\t$29.96\\tPurina ONE\\t$43.19\\tSmartBlend Lamb & Rice Formula Adult Premium Dry Dog Food, 31.1-lb bag\\n',\n",
       " '369\\t$53.98\\tMerrick\\t\\tGrain-Free Real Texas Beef + Sweet Potato Recipe Dry Dog Food, 25-lb bag\\n',\n",
       " '125\\t$19.79\\tBlue Buffalo\\t$35.88\\tWilderness Wolf Creek Stew Chunky Chicken Stew Grain-Free Adult Canned Dog Food, 1\\n',\n",
       " '266\\t$53.99\\tNatural Balance\\t$59.99\\tL.I.D. Limited Ingredient Diets Chicken & Sweet Potato Formula Grain-Free Dry D\\n',\n",
       " '163\\t$47.69\\tNutro\\t$52.99\\tWholesome Essentials Large Breed Adult Pasture Fed Lamb & Rice Recipe Dry Dog Food, 30-lb\\n',\n",
       " '539\\t$50.57\\tFromm\\t$55.00\\tGold Holistic Large Breed Puppy Dry Dog Food, 33-lb bag\\n',\n",
       " \"158\\t$31.49\\tNature's Recipe\\t$53.99\\tGrain-Free Salmon, Sweet Potato & Pumpkin Recipe Dry Dog Food, 24-lb bag\\n\",\n",
       " '239\\t$46.99\\tBlue Buffalo\\t$56.99\\tLife Protection Formula Large Breed Puppy Chicken & Brown Rice Recipe Dry Dog Food\\n',\n",
       " \"271\\t$33.49\\tHill's Prescription Diet\\t$36.69\\ti/d Digestive Care Original Low Fat Canned Dog Food, 13-oz, case of 12\\n\",\n",
       " '218\\t$59.99\\tACANA\\t\\tHeritage Meats Formula Grain-Free Dry Dog Food, 25-lb bag\\n',\n",
       " \"386\\t$76.99\\tHill's Prescription Diet\\t\\tw/d Digestive/Weight/Glucose Management Chicken Flavor Dry Dog Food, 2\\n\",\n",
       " '193\\t$28.96\\tIams\\t$37.99\\tProActive Health Adult MiniChunks Dry Dog Food, 30-lb bag\\n',\n",
       " '149\\t$44.99\\tNutro\\t$49.99\\tWholesome Essentials  Large Breed Adult Farm Raised Chicken, Brown Rice & Sweet Potato Re\\n',\n",
       " '121\\t$23.99\\tPurina ONE\\t$37.79\\tSmartBlend True Instinct with Real Turkey & Venison Adult Premium Dry Dog Food, 27.5\\n',\n",
       " \"217\\t$42.43\\tHill's Science Diet\\t$56.99\\tAdult Sensitive Stomach & Skin Dry Dog Food, 30-lb bag\\n\",\n",
       " \"134\\t$43.45\\tHill's Science Diet\\t$52.99\\tAdult Large Breed Dry Dog Food, 38.5-lb bag\\n\",\n",
       " \"245\\t$32.49\\tHill's Prescription Diet\\t\\tw/d Digestive/Weight/Glucose Management with Chicken Canned Dog Food,\\n\",\n",
       " '275\\t$45.99\\tBlue Buffalo\\t$52.99\\tLife Protection Formula Senior Chicken & Brown Rice Recipe Dry Dog Food, 30-lb bag\\n',\n",
       " '209\\t$31.99\\tDiamond\\t$40.49\\tNaturals Beef Meal & Rice Formula Adult Dry Dog Food, 40-lb bag\\n',\n",
       " '179\\t$55.99\\tACANA\\t\\tHeritage Free-Run Poultry Formula Grain-Free Dry Dog Food, 25-lb bag\\n',\n",
       " '128\\t$29.96\\tPurina ONE\\t$43.19\\tSmartBlend Chicken & Rice Formula Adult Premium Dry Dog Food, 31.1-lb bag\\n',\n",
       " \"311\\t$94.99\\tHill's Prescription Diet\\t\\tz/d Original Skin/Food Sensitivities Dry Dog Food, 25-lb bag\\n\",\n",
       " '335\\t$36.96\\tFromm\\t$43.99\\tFamily Classics Adult Formula Dry Dog Food, 33-lb bag\\n',\n",
       " \"218\\t$37.49\\tHill's Prescription Diet\\t\\ti/d Digestive Care Chicken & Vegetable Stew Canned Dog Food, 12.5-oz,\\n\",\n",
       " '263\\t$53.98\\tMerrick\\t$58.99\\tGrain-Free Real Chicken + Sweet Potato Recipe Dry Dog Food, 25-lb bag\\n',\n",
       " '228\\t$45.99\\tBlue Buffalo\\t$53.99\\tLife Protection Formula Puppy Chicken & Brown Rice Recipe Dry Dog Food, 30-lb bag\\n',\n",
       " '112\\t$49.99\\tBlue Buffalo\\t$58.99\\tWilderness Large Breed Chicken Recipe Grain-Free Dry Dog Food, 24-lb bag\\n',\n",
       " '672\\t$90.99\\tOrijen\\t\\t6 Fish Grain-Free Formula Dry Dog Food, 25-lb bag\\n',\n",
       " '79\\t$16.88\\tCesar\\t$17.28\\tClub Variety Cube Dog Food Trays, 3.5-oz, case of 24\\n',\n",
       " '135\\t$41.98\\tPurina Pro Plan\\t$44.99\\tFocus Puppy Large Breed Formula Dry Dog Food, 34-lb bag\\n',\n",
       " '667\\t$95.99\\tOrijen\\t\\tRegional Red Grain-Free Dry Dog Food, 25-lb bag\\n',\n",
       " '189\\t$49.99\\tBlue Buffalo\\t$59.99\\tWilderness Large Breed Puppy Chicken Recipe Grain-Free Dry Dog Food, 24-lb bag\\n',\n",
       " '211\\t$20.04\\tNatural Balance\\t$29.88\\tL.I.D. Limited Ingredient Diets Chicken & Sweet Potato Formula Grain-Free Canne\\n',\n",
       " '120\\t$20.79\\tBlue Buffalo\\t$31.08\\tWilderness Beef & Chicken Grill Grain-Free Canned Dog Food, 12.5-oz, case of 12\\n',\n",
       " '278\\t$64.59\\tRoyal Canin Veterinary Diet\\t$78.99\\tUrinary SO Canned Dog Food, 13.6-oz, case of 24\\n',\n",
       " '195\\t$56.09\\tRoyal Canin\\t$65.99\\tGerman Shepherd Adult Dry Dog Food, 30-lb bag\\n']"
      ]
     },
     "execution_count": 9,
     "metadata": {},
     "output_type": "execute_result"
    }
   ],
   "source": [
    "content"
   ]
  },
  {
   "cell_type": "code",
   "execution_count": null,
   "metadata": {
    "collapsed": true
   },
   "outputs": [],
   "source": []
  }
 ],
 "metadata": {
  "kernelspec": {
   "display_name": "Python 2",
   "language": "python",
   "name": "python2"
  },
  "language_info": {
   "codemirror_mode": {
    "name": "ipython",
    "version": 2
   },
   "file_extension": ".py",
   "mimetype": "text/x-python",
   "name": "python",
   "nbconvert_exporter": "python",
   "pygments_lexer": "ipython2",
   "version": "2.7.13"
  }
 },
 "nbformat": 4,
 "nbformat_minor": 2
}
